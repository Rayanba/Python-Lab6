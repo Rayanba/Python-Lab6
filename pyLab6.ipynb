{
 "cells": [
  {
   "cell_type": "code",
   "execution_count": null,
   "id": "1e7bdb55",
   "metadata": {},
   "outputs": [
    {
     "name": "stdout",
     "output_type": "stream",
     "text": [
      "Enter phone No: 1111111111\n",
      "Amal\n",
      "Enter phone No: 1234567890\n",
      "Sorry, the number is not found\n",
      "Enter phone No: 123456789\n",
      "This is invalid number\n",
      "Enter phone No: 12345678900\n",
      "This is invalid number\n",
      "Enter phone No: 504dssd\n",
      "this is invalid number\n"
     ]
    }
   ],
   "source": [
    "phoneDic = {\n",
    "    1111111111: \"Amal\",\n",
    "    2222222222: \"Mohammed\",\n",
    "    3333333333:\"Khadijah\",\n",
    "    4444444444: \"Abdullah\",\n",
    "    5555555555: \"Rawan\",\n",
    "    6666666666: \"Faisal\",\n",
    "    7777777777: \"Layla\"\n",
    "}\n",
    "\n",
    "while True:\n",
    "    try:\n",
    "        phoneNum = int(input(\"Enter phone No: \"))\n",
    "        if len(str(phoneNum)) != 10 :\n",
    "            print(\"This is invalid number\")\n",
    "        elif phoneDic.get(phoneNum) is None:\n",
    "            print (\"Sorry, the number is not found\")\n",
    "        else: \n",
    "            print (phoneDic.get(phoneNum))\n",
    "    except ValueError:\n",
    "        print(\"this is invalid number\")\n",
    "    "
   ]
  },
  {
   "cell_type": "code",
   "execution_count": null,
   "id": "01d1851e",
   "metadata": {},
   "outputs": [],
   "source": []
  }
 ],
 "metadata": {
  "kernelspec": {
   "display_name": "Python 3 (ipykernel)",
   "language": "python",
   "name": "python3"
  },
  "language_info": {
   "codemirror_mode": {
    "name": "ipython",
    "version": 3
   },
   "file_extension": ".py",
   "mimetype": "text/x-python",
   "name": "python",
   "nbconvert_exporter": "python",
   "pygments_lexer": "ipython3",
   "version": "3.11.4"
  }
 },
 "nbformat": 4,
 "nbformat_minor": 5
}
